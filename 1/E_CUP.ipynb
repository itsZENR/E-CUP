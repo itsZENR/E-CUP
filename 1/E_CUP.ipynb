{
  "cells": [
    {
      "cell_type": "markdown",
      "metadata": {
        "id": "view-in-github",
        "colab_type": "text"
      },
      "source": [
        "<a href=\"https://colab.research.google.com/github/itsZENR/E-CUP/blob/main/E_CUP.ipynb\" target=\"_parent\"><img src=\"https://colab.research.google.com/assets/colab-badge.svg\" alt=\"Open In Colab\"/></a>"
      ]
    },
    {
      "cell_type": "markdown",
      "metadata": {
        "id": "M1EmY1EaTOdq"
      },
      "source": [
        "Надо по названиям, атрибутам и картинкам определить являются ли два товара одиноковыми"
      ]
    },
    {
      "cell_type": "markdown",
      "metadata": {
        "id": "oxNMOaG9T_qN"
      },
      "source": [
        "#1. Сравнение названий\n",
        "\n",
        "    1. Обработка текста:\n",
        "      Приведение названий и атрибутов к нижнему регистру.\n",
        "      Удаление лишних пробелов, специальных символов и т.д.\n",
        "\n",
        "    2. Семантическое сравнение:\n",
        "      Использование методов обработки естественного языка (NLP) для вычисления семантической близости (например, с помощью библиотек таких как spaCy, nltk, или моделей как BERT)."
      ]
    },
    {
      "cell_type": "code",
      "execution_count": 7,
      "metadata": {
        "colab": {
          "base_uri": "https://localhost:8080/"
        },
        "id": "DKChMK54W6if",
        "outputId": "196f2291-dfd9-4daf-d026-a8d1a880f4e7"
      },
      "outputs": [
        {
          "output_type": "stream",
          "name": "stdout",
          "text": [
            "Text Similarity: 0.5797386715376658\n"
          ]
        }
      ],
      "source": [
        "import re\n",
        "from sklearn.feature_extraction.text import TfidfVectorizer\n",
        "from sklearn.metrics.pairwise import cosine_similarity\n",
        "# https://habr.com/ru/companies/otus/articles/755772/\n",
        "\n",
        "def preprocess_text(text):\n",
        "    # Приведение текста к нижнему регистру и удаление специальных символов\n",
        "    text = text.lower()\n",
        "    text = re.sub(r'\\W+', ' ', text)\n",
        "    # text = re.sub(r'[^\\w\\s]', '', text)\n",
        "    return text\n",
        "\n",
        "def compare_texts(text1, text2):\n",
        "    text1 = preprocess_text(text1)\n",
        "    text2 = preprocess_text(text2)\n",
        "\n",
        "    # Использование TF-IDF для преобразования текста в векторное представление\n",
        "    vectorizer = TfidfVectorizer().fit_transform([text1, text2])\n",
        "    vectors = vectorizer.toarray()\n",
        "\n",
        "    # Вычисление косинусного сходства\n",
        "    cosine_sim = cosine_similarity(vectors)\n",
        "    return cosine_sim[0][1]\n",
        "\n",
        "text_similarity = compare_texts(\"Название товара 1\", \"Название товара eae4wdf 5wr\")\n",
        "print(f\"Text Similarity: {text_similarity}\")\n"
      ]
    },
    {
      "cell_type": "code",
      "execution_count": null,
      "metadata": {
        "colab": {
          "base_uri": "https://localhost:8080/"
        },
        "id": "s0K3KRxmTOKS",
        "outputId": "b60a33f1-c79c-4c89-cf12-8f85be896ee6"
      },
      "outputs": [
        {
          "name": "stdout",
          "output_type": "stream",
          "text": [
            "строка с специальными знаками \n",
            "название товара 1\n"
          ]
        }
      ],
      "source": [
        "# Тест\n",
        "text = 'Строка!@ с# %специальными* знаками&'\n",
        "print(preprocess_text(text))\n",
        "text = 'Название товара 1'\n",
        "print(preprocess_text(text))\n"
      ]
    },
    {
      "cell_type": "markdown",
      "metadata": {
        "id": "52PQUsHFip_l"
      },
      "source": [
        "#2. Сравнение атрибутов"
      ]
    },
    {
      "cell_type": "code",
      "execution_count": 9,
      "metadata": {
        "colab": {
          "base_uri": "https://localhost:8080/"
        },
        "id": "v9bSzLkRiyLG",
        "outputId": "82b748cf-d410-441c-e41e-b310aba13232"
      },
      "outputs": [
        {
          "output_type": "stream",
          "name": "stdout",
          "text": [
            "Attribute Similarity: 0.6666666666666666\n"
          ]
        }
      ],
      "source": [
        "def compare_attributes(attr1, attr2):\n",
        "    # Сравнение значений атрибутов\n",
        "    matches = 0\n",
        "    total = len(attr1)\n",
        "\n",
        "    for key in attr1:\n",
        "        if key in attr2 and attr1[key] == attr2[key]:\n",
        "            matches += 1\n",
        "\n",
        "    similarity = matches / total\n",
        "    return similarity\n",
        "\n",
        "attr1 = {\"color\": \"red\", \"size\": \"M\", \"brand\": \"Nike\"}\n",
        "attr2 = {\"color\": \"red\", \"size\": \"L\", \"brand\": \"Nike\"}\n",
        "attribute_similarity = compare_attributes(attr1, attr2)\n",
        "print(f\"Attribute Similarity: {attribute_similarity}\")\n"
      ]
    },
    {
      "cell_type": "markdown",
      "metadata": {
        "id": "4wLfBhJwUjgI"
      },
      "source": [
        "#3. Сравнение изображений\n",
        "\n",
        "    1. Обработка изображений:\n",
        "        Предобработка изображений (например, изменение размера, нормализация).\n",
        "\n",
        "    2. Вычисление признаков изображений:\n",
        "        Использование моделей глубокого обучения для извлечения признаков (например, с помощью ResNet, VGG или других CNN).\n",
        "\n",
        "    3. Сравнение признаков:\n",
        "        Вычисление расстояний между векторами признаков (например, косинусное расстояние, евклидово расстояние)."
      ]
    },
    {
      "cell_type": "code",
      "execution_count": 5,
      "metadata": {
        "colab": {
          "base_uri": "https://localhost:8080/"
        },
        "id": "9tEdMOv1VFC9",
        "outputId": "c608c82d-5b05-4132-a808-cf43d77a6ef7"
      },
      "outputs": [
        {
          "output_type": "stream",
          "name": "stdout",
          "text": [
            "1/1 [==============================] - 1s 646ms/step\n",
            "1/1 [==============================] - 1s 508ms/step\n",
            "Image Similarity: 0.9999997615814209\n"
          ]
        }
      ],
      "source": [
        "from keras.preprocessing import image\n",
        "from keras.applications.vgg16 import VGG16, preprocess_input\n",
        "from keras.models import Model\n",
        "from sklearn.metrics.pairwise import cosine_similarity\n",
        "import numpy as np\n",
        "import requests\n",
        "from io import BytesIO\n",
        "from PIL import Image\n",
        "\n",
        "\n",
        "def preprocess_image(img):\n",
        "    # Загрузка и предобработка изображения\n",
        "    img = image.load_img(img, target_size=(224, 224))\n",
        "    img_data = image.img_to_array(img)\n",
        "    img_data = np.expand_dims(img_data, axis=0)\n",
        "    img_data = preprocess_input(img_data)\n",
        "    return img_data\n",
        "\n",
        "def extract_features(img, model):\n",
        "    img_data = preprocess_image(img)\n",
        "    features = model.predict(img_data)\n",
        "    return features.flatten()\n",
        "\n",
        "def compare_images(img1, img2):\n",
        "    base_model = VGG16(weights='imagenet')\n",
        "    model = Model(inputs=base_model.input, outputs=base_model.get_layer('fc1').output)\n",
        "\n",
        "    features1 = extract_features(img1, model)\n",
        "    features2 = extract_features(img2, model)\n",
        "\n",
        "    # Вычисление косинусного расстояния между признаками\n",
        "    cosine_sim = cosine_similarity([features1], [features2])\n",
        "    return cosine_sim[0][0]\n",
        "\n",
        "def url_download(url: str):\n",
        "    response = requests.get(url)\n",
        "    img_data = response.content\n",
        "    return BytesIO(img_data)\n",
        "\n",
        "\n",
        "url1 = 'https://cf-kr.kcdn.online/content/4f/665660e2d43be4d5123kak-vybrat-dom-main-9601.jpg'\n",
        "url2 = 'https://cf-kr.kcdn.online/content/4f/665660e2d43be4d5123kak-vybrat-dom-main-9601.jpg'\n",
        "img1 = url_download(url1)\n",
        "img2 = url_download(url2)\n",
        "image_similarity = compare_images(img1, img2)\n",
        "print(f\"Image Similarity: {image_similarity}\")\n"
      ]
    },
    {
      "cell_type": "markdown",
      "metadata": {
        "id": "yioOvVKzV4Ac"
      },
      "source": [
        "#4. Комплексное сравнение\n",
        "\n",
        "    1. Комбинирование результатов текстового и визуального сравнения для принятия окончательного решения."
      ]
    },
    {
      "cell_type": "code",
      "execution_count": 13,
      "metadata": {
        "colab": {
          "base_uri": "https://localhost:8080/"
        },
        "id": "yEHYIIEUV8lU",
        "outputId": "8af57895-3d6b-420a-f98c-8ce975c0e39e"
      },
      "outputs": [
        {
          "output_type": "stream",
          "name": "stderr",
          "text": [
            "WARNING:tensorflow:6 out of the last 11 calls to <function Model.make_predict_function.<locals>.predict_function at 0x7e509c1dd6c0> triggered tf.function retracing. Tracing is expensive and the excessive number of tracings could be due to (1) creating @tf.function repeatedly in a loop, (2) passing tensors with different shapes, (3) passing Python objects instead of tensors. For (1), please define your @tf.function outside of the loop. For (2), @tf.function has reduce_retracing=True option that can avoid unnecessary retracing. For (3), please refer to https://www.tensorflow.org/guide/function#controlling_retracing and https://www.tensorflow.org/api_docs/python/tf/function for  more details.\n"
          ]
        },
        {
          "output_type": "stream",
          "name": "stdout",
          "text": [
            "1/1 [==============================] - 1s 1s/step\n",
            "1/1 [==============================] - 1s 504ms/step\n",
            "Товары похожи\n",
            "0.8888888094160293\n"
          ]
        }
      ],
      "source": [
        "def compare_products(text1, text2, img1, img2, attr1, attr2):\n",
        "    text_similarity = compare_texts(text1, text2)\n",
        "    attribute_similarity = compare_attributes(attr1, attr2)\n",
        "    image_similarity = compare_images(img1, img2)\n",
        "\n",
        "\n",
        "    # Комбинирование результатов\n",
        "    overall_similarity = (text_similarity + attribute_similarity + image_similarity) / 3\n",
        "    return overall_similarity\n",
        "\n",
        "text1 = 'Название товара 1'\n",
        "text2 = 'Название товара 2'\n",
        "url1 = 'https://cf-kr.kcdn.online/content/4f/665660e2d43be4d5123kak-vybrat-dom-main-9601.jpg'\n",
        "url2 = 'https://cf-kr.kcdn.online/content/4f/665660e2d43be4d5123kak-vybrat-dom-main-9601.jpg'\n",
        "img1 = url_download(url1)\n",
        "img2 = url_download(url2)\n",
        "attr1 = {\"color\": \"red\", \"size\": \"M\", \"brand\": \"Nike\"}\n",
        "attr2 = {\"color\": \"red\", \"size\": \"L\", \"brand\": \"Nike\"}\n",
        "overall_similarity = compare_products(text1, text2, img1, img2, attr1, attr2)\n",
        "if overall_similarity > 0.8:\n",
        "  print('Товары похожи')\n",
        "else:\n",
        "  print('Товары не похожи')\n",
        "print(overall_similarity)"
      ]
    },
    {
      "cell_type": "code",
      "source": [],
      "metadata": {
        "id": "Sv1P_MbP4ign"
      },
      "execution_count": null,
      "outputs": []
    }
  ],
  "metadata": {
    "colab": {
      "provenance": [],
      "mount_file_id": "1vQ1TwlJInnmWr_bTBOq8uPK5VrH9tIWs",
      "authorship_tag": "ABX9TyPieklW9ScfoB/aFHW7Ji98",
      "include_colab_link": true
    },
    "kernelspec": {
      "display_name": "Python 3",
      "name": "python3"
    },
    "language_info": {
      "name": "python"
    }
  },
  "nbformat": 4,
  "nbformat_minor": 0
}
